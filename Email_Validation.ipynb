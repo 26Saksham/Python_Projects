{
 "cells": [
  {
   "cell_type": "code",
   "execution_count": 1,
   "id": "5b2d2556",
   "metadata": {},
   "outputs": [
    {
     "name": "stdout",
     "output_type": "stream",
     "text": [
      Rules: 
      1) Email atleast contain 6 letter.
      2)First letter can not be Capital letter.
      3)Email can end with .in,.com,.gov etc . 
      4)Must contain a '@' but not more than one' 
      5) It can not contain Space instead It can have '_','-',etc
      "Enter Your email: arindammajumder2020@gmail.com\n"
     ]
    }
   ],
   "source": [
    print("Rules: \n 1) Email atleast contain 6 letter.\n 2)First letter can not be Capital letter.\n 3)Email can end with .in,.com,.gov etc . \n 4)Must contain a '@' but not more than one' \n 5) It can not contain Space instead It can have '_','-',etc")
    "Email = input(\"Enter Your email: \")\n",
    "d,k,j = 0,0,0\n",
    "if len(Email)>=6:\n",
    "    if Email[0].isalpha():\n",
    "        if(Email[-3]=='.')^(Email[-4]==\".\"):\n",
    "            if ('@' in Email)and(Email.count('@')==1):\n",
    "                for x in Email:\n",
    "                    if x == x.isspace():\n",
    "                        k=1\n",
    "                    elif x.isalpha():\n",
    "                        if x==x.upper():\n",
    "                            j=1\n",
    "                    elif x.isdigit():\n",
    "                        continue\n",
    "                    elif x==\"_\" or x==\".\" or x==\"@\":\n",
    "                        continue\n",
    "                    else:\n",
    "                        d=1\n",
    "                if k==1 or j==1 or d==1:\n",
    "                    print('Wrong Email T-5')\n",
    "            else:\n",
    "                print(\"wrong Email T-4\")\n",
    "        else:\n",
    "            print(\"Wrong Email T-3\")\n",
    "    else:\n",
    "        print(\"Wrong Email T-2\")\n",
    "else:\n",
    "    print(\"Wrong Email T-1\")"
   ]
  },
  {
   "cell_type": "code",
   "execution_count": 2,
   "id": "56a896ba",
   "metadata": {},
   "outputs": [],
   "source": [
    "#as the email is valid it does not show any error"
   ]
  },
  {
   "cell_type": "code",
   "execution_count": null,
   "id": "5fe4b48c",
   "metadata": {},
   "outputs": [],
   "source": []
  }
 ],
 "metadata": {
  "kernelspec": {
   "display_name": "Python 3 (ipykernel)",
   "language": "python",
   "name": "python3"
  },
  "language_info": {
   "codemirror_mode": {
    "name": "ipython",
    "version": 3
   },
   "file_extension": ".py",
   "mimetype": "text/x-python",
   "name": "python",
   "nbconvert_exporter": "python",
   "pygments_lexer": "ipython3",
   "version": "3.9.12"
  }
 },
 "nbformat": 4,
 "nbformat_minor": 5
}
