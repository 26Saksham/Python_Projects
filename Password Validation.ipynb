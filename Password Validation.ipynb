{
 "cells": [
  {
   "cell_type": "code",
   "execution_count": 1,
   "id": "6f29a7e3",
   "metadata": {},
   "outputs": [
    {
     "name": "stdout",
     "output_type": "stream",
     "text": [
      " Password requirements- \n",
      " 1) Your password MUST be between 8 and 16 characters in length.\n",
      " 2) Your password MUST have at least one UPPERCASE character.\n",
      " 3) Your password MUST have at least one LOWERCASE character.\n",
      " 4) Your password MUST have at least one number.\n",
      " 5) Your password MUST have at least one Special (Non-Alphanumeric) character (eg. ! @ # $ % ^ & * ).\n",
      " 6) Your password MUST NOT contain spaces./n 7) Your password MUST NOT contain part of your name or username.\n",
      "Enter your password: arindammajumder3240020=\n",
      "Enter your name: arindam\n",
      "Error 3\n"
     ]
    }
   ],
   "source": [
    "#\n",
    "print(\" Password requirements- \\n 1) Your password MUST be between 8 and 16 characters in length.\\n 2) Your password MUST have at least one UPPERCASE character.\\n 3) Your password MUST have at least one LOWERCASE character.\\n 4) Your password MUST have at least one number.\\n 5) Your password MUST have at least one Special (Non-Alphanumeric) character (eg. ! @ # $ % ^ & * ).\\n 6) Your password MUST NOT contain spaces./n 7) Your password MUST NOT contain part of your name or username.\")\n",
    "Password=input(\"Enter your password: \")\n",
    "Name = input(\"Enter your name: \")\n",
    "letter = list(filter(lambda c: c.isupper(), Password))\n",
    "letter2 = list(filter(lambda b:b.islower(),Password))\n",
    "digit = list(filter(lambda a:a.isdigit(),Password))\n",
    "space = list(filter(lambda d:d.isspace(),Password))\n",
    "if len(Password)<8 ^ len(Password)>16:\n",
    "    if len(letter)==0:\n",
    "        if len(letter2)==0:\n",
    "            if len(digit)==0:\n",
    "                if (\"@\" in Password)^(\"!\" in Password)^(\"#\" in Password)^(\"$\" in Password)^(\"%\" in Password)^(\"^\" in Password)^(\"&\" in Password)^(\"*\" in Password):\n",
    "                    if len(space)!=0:\n",
    "                        if Name.lower() not in Password:\n",
    "                            pass\n",
    "                        else:\n",
    "                            print(\"Error 7\")\n",
    "                    else:\n",
    "                        print (\"Error 6\")\n",
    "                else:\n",
    "                    print(\"Error 5\")\n",
    "            else:\n",
    "                print(\"Error 4\")\n",
    "        else:\n",
    "            print(\"Error 3\")\n",
    "    else:\n",
    "        print(\"Error 2\")\n",
    "else:\n",
    "    print(\"Error 1\")"
   ]
  },
  {
   "cell_type": "code",
   "execution_count": null,
   "id": "ca051f24",
   "metadata": {},
   "outputs": [],
   "source": []
  },
  {
   "cell_type": "code",
   "execution_count": null,
   "id": "8940593b",
   "metadata": {},
   "outputs": [],
   "source": []
  }
 ],
 "metadata": {
  "kernelspec": {
   "display_name": "Python 3 (ipykernel)",
   "language": "python",
   "name": "python3"
  },
  "language_info": {
   "codemirror_mode": {
    "name": "ipython",
    "version": 3
   },
   "file_extension": ".py",
   "mimetype": "text/x-python",
   "name": "python",
   "nbconvert_exporter": "python",
   "pygments_lexer": "ipython3",
   "version": "3.9.12"
  }
 },
 "nbformat": 4,
 "nbformat_minor": 5
}
