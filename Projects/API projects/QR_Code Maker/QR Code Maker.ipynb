{
 "cells": [
  {
   "cell_type": "code",
   "execution_count": 1,
   "id": "f5e744f4",
   "metadata": {},
   "outputs": [],
   "source": [
    "import qrcode as qr\n",
    "img=qr.make(\"https://github.com/Arindam200\")\n",
    "img.save(\"My_GitHub_Acc.png\")"
   ]
  },
  {
   "cell_type": "markdown",
   "id": "e8bb1f00",
   "metadata": {},
   "source": [
    "![](My_GitHub_Acc.png)"
   ]
  },
  {
   "cell_type": "code",
   "execution_count": null,
   "id": "95967f51",
   "metadata": {},
   "outputs": [],
   "source": []
  }
 ],
 "metadata": {
  "kernelspec": {
   "display_name": "Python 3 (ipykernel)",
   "language": "python",
   "name": "python3"
  },
  "language_info": {
   "codemirror_mode": {
    "name": "ipython",
    "version": 3
   },
   "file_extension": ".py",
   "mimetype": "text/x-python",
   "name": "python",
   "nbconvert_exporter": "python",
   "pygments_lexer": "ipython3",
   "version": "3.9.12"
  }
 },
 "nbformat": 4,
 "nbformat_minor": 5
}
