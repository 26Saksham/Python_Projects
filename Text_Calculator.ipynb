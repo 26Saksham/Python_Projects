{
 "cells": [
  {
   "cell_type": "code",
   "execution_count": 1,
   "id": "924fee1a",
   "metadata": {},
   "outputs": [
    {
     "name": "stdout",
     "output_type": "stream",
     "text": [
      "Welcome to Caalculator\n",
      "\n",
      "+ for addition\n",
      "- for subtraction\n",
      "* for multiplication\n",
      "/ for division\n",
      "\n",
      "Choose the first number: 2\n",
      "Choose the second number: 4\n",
      "Choose the method you want to apply[+|-|*|/]: *\n",
      "8\n"
     ]
    }
   ],
   "source": [
    "print(\"Welcome to Caalculator\")\n",
    "print('''\n",
    "+ for addition\n",
    "- for subtraction\n",
    "* for multiplication\n",
    "/ for division\n",
    "''')\n",
    "Num1= int(input(\"Choose the first number: \"))\n",
    "Num2= int(input(\"Choose the second number: \"))\n",
    "method= input(\"Choose the method you want to apply[+|-|*|/]: \")\n",
    "if method=='+':\n",
    "    print(Num1+Num2)\n",
    "elif method=='-':\n",
    "    print(Num1-Num2)\n",
    "elif method=='*':\n",
    "    print(Num1*Num2)\n",
    "elif method=='/':\n",
    "    print(Num1/Num2)\n",
    "else:\n",
    "    print(\"Please Choose a above mentioned method[+,-,*,/]\")"
   ]
  },
  {
   "cell_type": "code",
   "execution_count": null,
   "id": "b94100a5",
   "metadata": {},
   "outputs": [],
   "source": []
  }
 ],
 "metadata": {
  "kernelspec": {
   "display_name": "Python 3 (ipykernel)",
   "language": "python",
   "name": "python3"
  },
  "language_info": {
   "codemirror_mode": {
    "name": "ipython",
    "version": 3
   },
   "file_extension": ".py",
   "mimetype": "text/x-python",
   "name": "python",
   "nbconvert_exporter": "python",
   "pygments_lexer": "ipython3",
   "version": "3.9.12"
  }
 },
 "nbformat": 4,
 "nbformat_minor": 5
}
