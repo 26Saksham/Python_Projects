{
 "cells": [
  {
   "cell_type": "code",
   "execution_count": 1,
   "id": "336b164b",
   "metadata": {},
   "outputs": [
    {
     "name": "stdout",
     "output_type": "stream",
     "text": [
      "-: Welcome to Dice Rolling Game :-\n",
      "Do you want to play?[Y/N]: y\n",
      "Rolling the dice...\n",
      "The number on the dice is:  1\n",
      "Do you want to play?[Y/N]: n\n",
      "Ending the game...\n"
     ]
    }
   ],
   "source": [
    "import random\n",
    "print(\"-: Welcome to Dice Rolling Game :-\")\n",
    "while True:\n",
    "    choice= input(\"Do you want to play?[Y/N]: \")\n",
    "    if choice.lower()==\"y\":\n",
    "        print(\"Rolling the dice...\")\n",
    "        number=random.randint(1,6)\n",
    "        print(\"The number on the dice is: \",number)\n",
    "    elif choice.lower()==\"n\":\n",
    "        print(\"Ending the game...\")\n",
    "        break\n",
    "    else:\n",
    "        print(\"Invalid choice\")\n",
    "    "
   ]
  },
  {
   "cell_type": "code",
   "execution_count": null,
   "id": "729c017a",
   "metadata": {},
   "outputs": [],
   "source": [
    "\n"
   ]
  },
  {
   "cell_type": "code",
   "execution_count": null,
   "id": "63987f8b",
   "metadata": {},
   "outputs": [],
   "source": []
  }
 ],
 "metadata": {
  "kernelspec": {
   "display_name": "Python 3 (ipykernel)",
   "language": "python",
   "name": "python3"
  },
  "language_info": {
   "codemirror_mode": {
    "name": "ipython",
    "version": 3
   },
   "file_extension": ".py",
   "mimetype": "text/x-python",
   "name": "python",
   "nbconvert_exporter": "python",
   "pygments_lexer": "ipython3",
   "version": "3.9.12"
  }
 },
 "nbformat": 4,
 "nbformat_minor": 5
}
